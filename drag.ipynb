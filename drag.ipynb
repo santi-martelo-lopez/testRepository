{
    "cells": [
        {
            "metadata": {},
            "cell_type": "markdown",
            "source": "This notebook analyzes drag around a cylinder from data in a csv file"
        },
        {
            "metadata": {},
            "cell_type": "code",
            "source": "\n",
            "execution_count": null,
            "outputs": []
        },
        {
            "metadata": {},
            "cell_type": "code",
            "source": "\nimport types\nimport pandas as pd\nfrom botocore.client import Config\nimport ibm_boto3\n\ndef __iter__(self): return 0\n\n# @hidden_cell\n# The following code accesses a file in your IBM Cloud Object Storage. It includes your credentials.\n# You might want to remove those credentials before you share the notebook.\nclient_ef29c98361a543aa8ca1799a86613b7b = ibm_boto3.client(service_name='s3',\n    ibm_api_key_id='SVjREphkavK6RkdmB9FPJophYuEhG3vLv9rymi9ksI9D',\n    ibm_auth_endpoint=\"https://iam.cloud.ibm.com/oidc/token\",\n    config=Config(signature_version='oauth'),\n    endpoint_url='https://s3.eu-geo.objectstorage.service.networklayer.com')\n\nbody = client_ef29c98361a543aa8ca1799a86613b7b.get_object(Bucket='jupiterlab1-donotdelete-pr-sanrkoiwsn6zol',Key='csvout_p0007.csv')['Body']\n# add missing __iter__ method, so pandas accepts body as file-like object\nif not hasattr(body, \"__iter__\"): body.__iter__ = types.MethodType( __iter__, body )\n\ndf_data_1 = pd.read_csv(body)\ndf_data_1.head()\n",
            "execution_count": 6,
            "outputs": [
                {
                    "output_type": "execute_result",
                    "execution_count": 6,
                    "data": {
                        "text/plain": "    x coord   y coord   z coord    p   pm  Unnamed: 5\n0   15.9375   -0.0625    6.9375  0.0  0.0         NaN\n1   15.9625   -0.0625    6.9375  0.0  0.0         NaN\n2   15.9875   -0.0625    6.9375  0.0  0.0         NaN\n3   16.0125   -0.0625    6.9375  0.0  0.0         NaN\n4   16.0375   -0.0625    6.9375  0.0  0.0         NaN",
                        "text/html": "<div>\n<style scoped>\n    .dataframe tbody tr th:only-of-type {\n        vertical-align: middle;\n    }\n\n    .dataframe tbody tr th {\n        vertical-align: top;\n    }\n\n    .dataframe thead th {\n        text-align: right;\n    }\n</style>\n<table border=\"1\" class=\"dataframe\">\n  <thead>\n    <tr style=\"text-align: right;\">\n      <th></th>\n      <th>x coord</th>\n      <th>y coord</th>\n      <th>z coord</th>\n      <th>p</th>\n      <th>pm</th>\n      <th>Unnamed: 5</th>\n    </tr>\n  </thead>\n  <tbody>\n    <tr>\n      <th>0</th>\n      <td>15.9375</td>\n      <td>-0.0625</td>\n      <td>6.9375</td>\n      <td>0.0</td>\n      <td>0.0</td>\n      <td>NaN</td>\n    </tr>\n    <tr>\n      <th>1</th>\n      <td>15.9625</td>\n      <td>-0.0625</td>\n      <td>6.9375</td>\n      <td>0.0</td>\n      <td>0.0</td>\n      <td>NaN</td>\n    </tr>\n    <tr>\n      <th>2</th>\n      <td>15.9875</td>\n      <td>-0.0625</td>\n      <td>6.9375</td>\n      <td>0.0</td>\n      <td>0.0</td>\n      <td>NaN</td>\n    </tr>\n    <tr>\n      <th>3</th>\n      <td>16.0125</td>\n      <td>-0.0625</td>\n      <td>6.9375</td>\n      <td>0.0</td>\n      <td>0.0</td>\n      <td>NaN</td>\n    </tr>\n    <tr>\n      <th>4</th>\n      <td>16.0375</td>\n      <td>-0.0625</td>\n      <td>6.9375</td>\n      <td>0.0</td>\n      <td>0.0</td>\n      <td>NaN</td>\n    </tr>\n  </tbody>\n</table>\n</div>"
                    },
                    "metadata": {}
                }
            ]
        },
        {
            "metadata": {},
            "cell_type": "code",
            "source": "",
            "execution_count": null,
            "outputs": []
        }
    ],
    "metadata": {
        "kernelspec": {
            "name": "python3",
            "display_name": "Python 3.6",
            "language": "python"
        },
        "language_info": {
            "name": "python",
            "version": "3.6.9",
            "mimetype": "text/x-python",
            "codemirror_mode": {
                "name": "ipython",
                "version": 3
            },
            "pygments_lexer": "ipython3",
            "nbconvert_exporter": "python",
            "file_extension": ".py"
        }
    },
    "nbformat": 4,
    "nbformat_minor": 1
}